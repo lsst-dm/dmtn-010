{
 "cells": [
  {
   "cell_type": "code",
   "execution_count": 1,
   "metadata": {
    "collapsed": true
   },
   "outputs": [],
   "source": [
    "# generic imports\n",
    "import numpy as np\n",
    "import astropy.io.fits as pyfits"
   ]
  },
  {
   "cell_type": "code",
   "execution_count": 2,
   "metadata": {
    "collapsed": false
   },
   "outputs": [
    {
     "name": "stdout",
     "output_type": "stream",
     "text": [
      "/Users/parejkoj/lsst/lsstsw/lsst_build/python:/Users/parejkoj/lsst/temp/starlink-pyast:/Users/parejkoj/dev/python:/Users/parejkoj/lsst/lsstsw/eups/1.5.9/python\n"
     ]
    }
   ],
   "source": [
    "# had to muck with my pythonpath to get my own pyast fork in place.\n",
    "import os\n",
    "print os.environ['PYTHONPATH']"
   ]
  },
  {
   "cell_type": "code",
   "execution_count": 3,
   "metadata": {
    "collapsed": true
   },
   "outputs": [],
   "source": [
    "# LSST imports"
   ]
  },
  {
   "cell_type": "code",
   "execution_count": 4,
   "metadata": {
    "collapsed": true
   },
   "outputs": [],
   "source": [
    "# AST imports\n",
    "from starlink import Ast\n",
    "from starlink import Atl"
   ]
  },
  {
   "cell_type": "code",
   "execution_count": 5,
   "metadata": {
    "collapsed": false
   },
   "outputs": [],
   "source": [
    "# astropy imports\n",
    "import gwcs\n",
    "from gwcs import coordinate_frames as cf\n",
    "from astropy.modeling import models\n",
    "from astropy import units as u\n",
    "from astropy import coordinates as coord"
   ]
  },
  {
   "cell_type": "code",
   "execution_count": 28,
   "metadata": {
    "collapsed": false
   },
   "outputs": [],
   "source": [
    "# infile = '/Users/parejkoj/lsst/afwdata/CFHT/D4/cal-53535-i-797722_1.fits'\n",
    "infile = '/Users/parejkoj/lsst/simastrom/validation_data_cfht/raw/849375p.fits.fz'\n",
    "data = pyfits.open(infile)\n",
    "data[1].data.shape\n",
    "nx = data[1].shape[0]\n",
    "ny = data[1].shape[1]"
   ]
  },
  {
   "cell_type": "code",
   "execution_count": 7,
   "metadata": {
    "collapsed": false
   },
   "outputs": [
    {
     "name": "stdout",
     "output_type": "stream",
     "text": [
      "  From   Transform\n",
      "-------- ---------\n",
      "detector      None\n",
      "   focal      None\n",
      "    icrs      None\n",
      "(215.50450967846268, 53.151131818465764)\n",
      "(215.51298666101513, 53.145896269730315)\n",
      "[[ 215.50459446   53.15107947]\n",
      " [ 215.50363274   53.0427071 ]\n",
      " [ 215.89833684   53.03734126]\n",
      " [ 215.900288     53.14570507]]\n"
     ]
    }
   ],
   "source": [
    "# make some gWCS objects from the file\n",
    "\n",
    "# get the basic WCS transformation from the FITS headers\n",
    "# Have to fake a keyword: https://github.com/spacetelescope/gwcs/issues/40\n",
    "data[1].header['WCSAXES'] = 2\n",
    "fits_transform = gwcs.utils.make_fitswcs_transform(data[1].header)\n",
    "\n",
    "# Create a simple distortion model from two 2D polynomails\n",
    "x_distort = models.Polynomial2D(2, c1_0=1, c0_1=1)\n",
    "y_distort = models.Polynomial2D(2, c1_0=1, c0_1=1)\n",
    "distortion = models.Mapping((0,1,0,1)) | x_distort & y_distort\n",
    "# A potentially useful test coordinate is the identity.\n",
    "distortion = models.Identity(2)\n",
    "\n",
    "# Create some coordinate frames to map between\n",
    "detector = cf.Frame2D(name='detector', axes_order=(0,1), unit=(u.pix, u.pix))\n",
    "focal = cf.Frame2D(name='focal', axes_order=(0,1), unit=(u.arcmin, u.arcmin))\n",
    "sky = cf.CelestialFrame(name='icrs', reference_frame=coord.ICRS())\n",
    "\n",
    "# tuples of frame:mapping\n",
    "# The last frame has None for the transform.\n",
    "pipeline = [(detector, distortion),\n",
    "                (focal, fits_transform),\n",
    "                (sky, None)\n",
    "                ]\n",
    "wcs = gwcs.wcs.WCS(pipeline)\n",
    "\n",
    "# print the on-sky coordinates of some pixels, and the corners\n",
    "print wcs\n",
    "print wcs(0,0)\n",
    "print wcs(100,100)\n",
    "print wcs.footprint(data[1].data.shape)"
   ]
  },
  {
   "cell_type": "code",
   "execution_count": 15,
   "metadata": {
    "collapsed": false
   },
   "outputs": [
    {
     "name": "stdout",
     "output_type": "stream",
     "text": [
      "[-2.52192206 -2.52177411] [ 0.92766225  0.92757087]\n",
      "[ 215.50450968   53.15113182]\n"
     ]
    }
   ],
   "source": [
    "# make some AST objects from the file.\n",
    "data = pyfits.open(infile)\n",
    "frameset,encoding = Atl.readfitswcs(data[1], Iwc=True)\n",
    "\n",
    "# TBD: need to figure out how to construct a PolyMap.\n",
    "# TBD: this is from the pyast test.py file:\n",
    "# pm = Ast.PolyMap( [[1.2,1.,2.,0.],[-0.5,1.,1.,1.],[1.0,2.,0.,1.]])\n",
    "# UnitMap is the Identity map: input a coordinate and just output it.\n",
    "distortion = Ast.UnitMap(2)\n",
    "\n",
    "# The original mapping. simplify() it to get rid of loops, etc.\n",
    "map = frameset.getmapping(Ast.BASE, frameset.Nframe).simplify()\n",
    "newmap = Ast.CmpMap(map, distortion)\n",
    "\n",
    "# insert the new mapping\n",
    "pixframe = frameset.getframe(Ast.BASE) #pointer to the base frame (pixel coords)\n",
    "newmap.invert()\n",
    "isky = frameset.Current\n",
    "frameset.addframe(frameset.Nframe, newmap, pixframe)\n",
    "newpix = frameset.Current\n",
    "frameset.Current = isky\n",
    "\n",
    "# Now delete the old frame. Why, I'm not sure.\n",
    "oldpix = frameset.Base\n",
    "frameset.Base = newpix\n",
    "frameset.removeframe(oldpix)\n",
    "\n",
    "# print the on-sky coordinates of some pixels, and the corners\n",
    "xpixel = [0,100]\n",
    "ypixel = [0,100]\n",
    "ra,dec = frameset.tran([xpixel,ypixel])\n",
    "print ra,dec\n",
    "print (180/np.pi)*frameset.norm((ra[0],dec[0]))\n",
    "\n",
    "#print frameset"
   ]
  },
  {
   "cell_type": "code",
   "execution_count": 16,
   "metadata": {
    "collapsed": false
   },
   "outputs": [],
   "source": [
    "# make a meshgrid of the pixel coordinates\n",
    "xx = np.arange(0,nx)\n",
    "yy = np.arange(0,ny)\n",
    "xv,yv = np.meshgrid(xx,yy)"
   ]
  },
  {
   "cell_type": "code",
   "execution_count": 25,
   "metadata": {
    "collapsed": false
   },
   "outputs": [
    {
     "name": "stdout",
     "output_type": "stream",
     "text": [
      "1 loops, best of 3: 2.41 s per loop\n",
      "1 loops, best of 3: 2.62 s per loop\n"
     ]
    }
   ],
   "source": [
    "# How do these two match up in terms of processing time?\n",
    "%timeit wcs(xv,yv)\n",
    "%timeit frameset.tran([xv.flatten(),yv.flatten()])"
   ]
  },
  {
   "cell_type": "code",
   "execution_count": 87,
   "metadata": {
    "collapsed": false
   },
   "outputs": [],
   "source": [
    "result_gwcs = wcs(xv,yv)\n",
    "result_ast = (180/np.pi)*frameset.tran([xv.flatten(),yv.flatten()])\n",
    "result_ast = (result_ast[0].reshape(ny,nx),result_ast[1].reshape(ny,nx))"
   ]
  },
  {
   "cell_type": "code",
   "execution_count": 91,
   "metadata": {
    "collapsed": false,
    "scrolled": true
   },
   "outputs": [
    {
     "data": {
      "text/plain": [
       "array([[  7.10542736e-15,   7.10542736e-15,   7.10542736e-15, ...,\n",
       "          7.10542736e-15,   7.10542736e-15,   1.42108547e-14],\n",
       "       [  7.10542736e-15,   1.42108547e-14,   7.10542736e-15, ...,\n",
       "          0.00000000e+00,   0.00000000e+00,   7.10542736e-15],\n",
       "       [  0.00000000e+00,   0.00000000e+00,   7.10542736e-15, ...,\n",
       "          7.10542736e-15,   0.00000000e+00,   0.00000000e+00],\n",
       "       ..., \n",
       "       [  0.00000000e+00,   0.00000000e+00,   0.00000000e+00, ...,\n",
       "          7.10542736e-15,   0.00000000e+00,   0.00000000e+00],\n",
       "       [  7.10542736e-15,   7.10542736e-15,   7.10542736e-15, ...,\n",
       "          0.00000000e+00,  -7.10542736e-15,   0.00000000e+00],\n",
       "       [  0.00000000e+00,   7.10542736e-15,   7.10542736e-15, ...,\n",
       "          0.00000000e+00,   0.00000000e+00,   0.00000000e+00]])"
      ]
     },
     "execution_count": 91,
     "metadata": {},
     "output_type": "execute_result"
    }
   ],
   "source": [
    "np.allclose(result_ast[0] - result_gwcs[0]\n",
    "result_ast[1] - result_gwcs[1]"
   ]
  },
  {
   "cell_type": "code",
   "execution_count": null,
   "metadata": {
    "collapsed": true
   },
   "outputs": [],
   "source": []
  }
 ],
 "metadata": {
  "kernelspec": {
   "display_name": "Python 2",
   "language": "python",
   "name": "python2"
  },
  "language_info": {
   "codemirror_mode": {
    "name": "ipython",
    "version": 2
   },
   "file_extension": ".py",
   "mimetype": "text/x-python",
   "name": "python",
   "nbconvert_exporter": "python",
   "pygments_lexer": "ipython2",
   "version": "2.7.11"
  }
 },
 "nbformat": 4,
 "nbformat_minor": 0
}
